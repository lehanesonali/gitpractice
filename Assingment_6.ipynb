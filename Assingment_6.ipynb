{
 "cells": [
  {
   "cell_type": "markdown",
   "id": "ec315fde",
   "metadata": {},
   "source": [
    "#                 Python Basic - 1"
   ]
  },
  {
   "cell_type": "markdown",
   "id": "91402e0d",
   "metadata": {},
   "source": [
    "Q.1. What are keywords in python? Using the keyword library, print all the python keywords."
   ]
  },
  {
   "cell_type": "markdown",
   "id": "3170f87c",
   "metadata": {},
   "source": [
    "Ans:-keywords in python are reserved words that cannot be used as ordinary identifiers. they are used to define the syntax and structure of the python language"
   ]
  },
  {
   "cell_type": "code",
   "execution_count": 3,
   "id": "74dc20e5",
   "metadata": {},
   "outputs": [
    {
     "name": "stdout",
     "output_type": "stream",
     "text": [
      "['False', 'None', 'True', 'and', 'as', 'assert', 'async', 'await', 'break', 'class', 'continue', 'def', 'del', 'elif', 'else', 'except', 'finally', 'for', 'from', 'global', 'if', 'import', 'in', 'is', 'lambda', 'nonlocal', 'not', 'or', 'pass', 'raise', 'return', 'try', 'while', 'with', 'yield']\n"
     ]
    }
   ],
   "source": [
    "# pip install keywords\n",
    "import keyword\n",
    "print(keyword.kwlist)\n"
   ]
  },
  {
   "cell_type": "markdown",
   "id": "2cdbbbd9",
   "metadata": {},
   "source": [
    "Q.2. What are the rules to create variables in python?"
   ]
  },
  {
   "cell_type": "markdown",
   "id": "6d5ee4ee",
   "metadata": {},
   "source": [
    "Ans:-variables are declared by writting the variable name and assigning it a value using equal sign (=).a variable name must be start with a letter or underscore(_) character.a varible cannot start with a number.A variable name can contain only alpha-numeric character and underscore.varible name is case sensetive."
   ]
  },
  {
   "cell_type": "code",
   "execution_count": null,
   "id": "108921e2",
   "metadata": {},
   "outputs": [],
   "source": []
  },
  {
   "cell_type": "markdown",
   "id": "28cbe378",
   "metadata": {},
   "source": [
    "Q.3. What are the standards and conventions followed for the nomenclature of variables in\n",
    "python to improve code readability and maintainability?"
   ]
  },
  {
   "cell_type": "markdown",
   "id": "231ba278",
   "metadata": {},
   "source": [
    "Ans:- Use grammtically correct variable names, the class name should start with an uppercase and must follow camelcas                  convention  if more than two words are to be used. In the same way, a function name should be joined with an underscore, \n",
    "       and it must be lowercase."
   ]
  },
  {
   "cell_type": "code",
   "execution_count": null,
   "id": "ffe7f768",
   "metadata": {},
   "outputs": [],
   "source": []
  },
  {
   "cell_type": "markdown",
   "id": "2ae0ac5c",
   "metadata": {},
   "source": [
    "Q.4. What will happen if a keyword is used as a variable name?"
   ]
  },
  {
   "cell_type": "markdown",
   "id": "ddc9b81f",
   "metadata": {},
   "source": [
    "Ans:-if we use keywords as a variable name than it throw an error.because keywords are reserved words. keywords can not be used for ordinary identifier."
   ]
  },
  {
   "cell_type": "markdown",
   "id": "2e87c311",
   "metadata": {},
   "source": [
    "Q.5. For what purpose def keyword is used?"
   ]
  },
  {
   "cell_type": "markdown",
   "id": "84b416c2",
   "metadata": {},
   "source": [
    "Ans:- def keyword is used to define a function that users can use to built their own function."
   ]
  },
  {
   "cell_type": "markdown",
   "id": "cc03a886",
   "metadata": {},
   "source": [
    "Q.6. What is the operation of this special character ‘\\’?"
   ]
  },
  {
   "cell_type": "markdown",
   "id": "fe77703f",
   "metadata": {},
   "source": [
    "Ans:- it is used for divide the value.\n",
    "      "
   ]
  },
  {
   "cell_type": "code",
   "execution_count": null,
   "id": "205b8e59",
   "metadata": {},
   "outputs": [],
   "source": [
    "Q.7. Give an example of the following conditions:\n",
    "(i) Homogeneous list\n",
    "(ii) Heterogeneous set\n",
    "(iii) Homogeneous tuple"
   ]
  },
  {
   "cell_type": "code",
   "execution_count": null,
   "id": "e5e3ccd0",
   "metadata": {},
   "outputs": [],
   "source": [
    "Ans:   Homogeneous_list = [1,2,3,4,5]\n",
    "      Heterogeneous_set = {1, \"apple\",3.14,(2,3)}\n",
    "        Homogeneous_tuple = (\"apple\", \"banana\",\"orange\")\n",
    "      "
   ]
  },
  {
   "cell_type": "code",
   "execution_count": null,
   "id": "e74bab69",
   "metadata": {},
   "outputs": [],
   "source": []
  },
  {
   "cell_type": "markdown",
   "id": "ce7be853",
   "metadata": {},
   "source": [
    "Q.8. Explain the mutable and immutable data types with proper explanation & examples."
   ]
  },
  {
   "cell_type": "markdown",
   "id": "e89384d1",
   "metadata": {},
   "source": [
    "Ans:- mutable-  mutable data types can be modified or\n",
    "     changed after their creation.\n",
    "    \n",
    "    immutable - immutable data types can not be modified            or\n",
    "    changed after their creation."
   ]
  },
  {
   "cell_type": "code",
   "execution_count": null,
   "id": "40c10757",
   "metadata": {},
   "outputs": [],
   "source": [
    "Q.9. Write a code to create the given structure using only for loop.\n",
    "*\n",
    "***\n",
    "*****\n",
    "*******\n",
    "*********"
   ]
  },
  {
   "cell_type": "code",
   "execution_count": 1,
   "id": "358e4a37",
   "metadata": {},
   "outputs": [
    {
     "name": "stdout",
     "output_type": "stream",
     "text": [
      "        * \n",
      "\n",
      "      * * * \n",
      "\n",
      "    * * * * * \n",
      "\n",
      "  * * * * * * * \n",
      "\n",
      "* * * * * * * * * \n",
      "\n"
     ]
    }
   ],
   "source": [
    "for i in range (1,6):\n",
    "    for k in range (1,6-i):\n",
    "         print (\" \", end = \" \")\n",
    "    for j in range (1,(2*i-1)+1):\n",
    "        print (\"*\", end = \" \")\n",
    "    print (\"\\n\")"
   ]
  },
  {
   "cell_type": "code",
   "execution_count": null,
   "id": "62081802",
   "metadata": {},
   "outputs": [],
   "source": [
    "Q.10. Write a code to create the given structure using while loop.\n",
    "|||||||||\n",
    "|||||||\n",
    "|||||\n",
    "|||\n",
    "|"
   ]
  },
  {
   "cell_type": "code",
   "execution_count": 2,
   "id": "8381ca46",
   "metadata": {},
   "outputs": [
    {
     "name": "stdout",
     "output_type": "stream",
     "text": [
      "||||||||| \n",
      " ||||||| \n",
      "  ||||| \n",
      "   ||| \n",
      "    | \n"
     ]
    }
   ],
   "source": [
    "i = 5\n",
    "while i>=1:\n",
    "    k = i-1\n",
    "    while k<4:\n",
    "        print (\" \" , end = \"\")\n",
    "        k = k + 1 \n",
    "    j = (2*i-1)\n",
    "    while j>=1:\n",
    "        print (\"|\", end = \"\")\n",
    "        j = j - 1\n",
    "       \n",
    "    print (\" \")\n",
    "    i = i - 1"
   ]
  },
  {
   "cell_type": "code",
   "execution_count": null,
   "id": "21a6e767",
   "metadata": {},
   "outputs": [],
   "source": []
  }
 ],
 "metadata": {
  "kernelspec": {
   "display_name": "Python 3 (ipykernel)",
   "language": "python",
   "name": "python3"
  },
  "language_info": {
   "codemirror_mode": {
    "name": "ipython",
    "version": 3
   },
   "file_extension": ".py",
   "mimetype": "text/x-python",
   "name": "python",
   "nbconvert_exporter": "python",
   "pygments_lexer": "ipython3",
   "version": "3.11.4"
  }
 },
 "nbformat": 4,
 "nbformat_minor": 5
}
